{
 "cells": [
  {
   "cell_type": "code",
   "execution_count": 3,
   "metadata": {},
   "outputs": [
    {
     "name": "stdout",
     "output_type": "stream",
     "text": [
      "Number of records: 100530\n"
     ]
    }
   ],
   "source": [
    "import pandas as pd\n",
    "\n",
    "data = pd.read_csv('Resources/Airbnb_cleaned.csv')\n",
    "print(f\"Number of records: {len(data)}\")\n"
   ]
  },
  {
   "cell_type": "code",
   "execution_count": 4,
   "metadata": {},
   "outputs": [
    {
     "name": "stdout",
     "output_type": "stream",
     "text": [
      "100530 records inserted into MongoDB.\n"
     ]
    }
   ],
   "source": [
    "\n",
    "from pymongo import MongoClient\n",
    "\n",
    "#Transform - Data cleaning and transformation\n",
    "\n",
    "data.columns = [col.strip().replace(\" \", \"_\").lower() for col in data.columns]  \n",
    "\n",
    "data.fillna(0, inplace=True)\n",
    "\n",
    "data['name'] = data['name'].str.title()\n",
    "\n",
    "# Connect to MongoDB and insert the data\n",
    "client = MongoClient(\"mongodb://localhost:27017/\")  \n",
    "db = client[\"airbnb_db\"] \n",
    "collection = db[\"listings\"]  \n",
    "\n",
    "# Convert the DataFrame to a dictionary and insert into MongoDB\n",
    "data_dict = data.to_dict(orient='records')  \n",
    "collection.insert_many(data_dict)  \n",
    "\n",
    "print(f\"{len(data_dict)} records inserted into MongoDB.\")  # Print number of records inserted\n"
   ]
  }
 ],
 "metadata": {
  "kernelspec": {
   "display_name": "base",
   "language": "python",
   "name": "python3"
  },
  "language_info": {
   "codemirror_mode": {
    "name": "ipython",
    "version": 3
   },
   "file_extension": ".py",
   "mimetype": "text/x-python",
   "name": "python",
   "nbconvert_exporter": "python",
   "pygments_lexer": "ipython3",
   "version": "3.11.5"
  }
 },
 "nbformat": 4,
 "nbformat_minor": 2
}
